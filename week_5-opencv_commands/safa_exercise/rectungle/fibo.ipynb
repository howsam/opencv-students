{
 "cells": [
  {
   "cell_type": "markdown",
   "id": "7b3a9058-fac0-4682-9b3f-4b273bd49bed",
   "metadata": {},
   "source": [
    "# Fibonacci sequence\n",
    "<b> Ali Safamansouri </b>"
   ]
  },
  {
   "cell_type": "markdown",
   "id": "1377aa94-bd0d-4118-af74-ba9d1727246a",
   "metadata": {},
   "source": [
    "## Imports"
   ]
  },
  {
   "cell_type": "code",
   "execution_count": 1,
   "id": "71589a5d-ac52-4985-a775-c96bbcd2c9f0",
   "metadata": {},
   "outputs": [],
   "source": [
    "import cv2\n",
    "import numpy as np\n",
    "import matplotlib.pyplot as plt"
   ]
  },
  {
   "cell_type": "markdown",
   "id": "c813d8cf-c6f5-4cc6-a677-29c1bcdbccc7",
   "metadata": {},
   "source": [
    "## Define fibonacci function"
   ]
  },
  {
   "cell_type": "code",
   "execution_count": 2,
   "id": "82023c25-26c1-450a-b4b3-3de172f788dd",
   "metadata": {},
   "outputs": [],
   "source": [
    "def fibonacci(n):\n",
    "    if n<2:\n",
    "        return\n",
    "    fibSequence=[0,1]\n",
    "    for i in range(2,n):\n",
    "        newFib=fibSequence[i-2]+fibSequence[i-1]\n",
    "        fibSequence.append(newFib)\n",
    "    return np.array(fibSequence)"
   ]
  },
  {
   "cell_type": "markdown",
   "id": "20765fa9-a81a-49b0-90af-bc9e74863ec9",
   "metadata": {},
   "source": [
    "## Params and implementaion of fibonacci squares"
   ]
  },
  {
   "cell_type": "code",
   "execution_count": 3,
   "id": "c47d27bc-ca18-4927-a8f4-3575282d8fcf",
   "metadata": {},
   "outputs": [],
   "source": [
    "img = np.zeros((800, 1000), dtype=np.uint8)\n",
    "rows, cols = img.shape\n",
    "fibolen = 11\n",
    "scale = 10\n",
    "fiboSequence = fibonacci(fibolen) * scale\n",
    "\n",
    "# Create movement in  x axis\n",
    "pattern = [1, -1, -1, 1] * ((fibolen + 3) // 4)  # Repeat the pattern\n",
    "xdirections = np.array(pattern[:fibolen])\n",
    "# Create movement in  y axis\n",
    "pattern = [1, 1, -1, -1] * ((fibolen + 3) // 4)  # Repeat the pattern\n",
    "ydirections = np.array(pattern[:fibolen])\n",
    "\n",
    "pt2 = (cols - 300, 200)\n",
    "for i in range(1, fibolen):\n",
    "    pt1 = pt2\n",
    "    x, y = pt1\n",
    "    x += fiboSequence[i] * xdirections[i]\n",
    "    y += fiboSequence[i] * ydirections[i]\n",
    "    pt2 = (x, y)\n",
    "    cv2.rectangle(img, pt1, pt2, 255)"
   ]
  },
  {
   "cell_type": "markdown",
   "id": "6005d516-8c13-47dd-9002-b50a40ab55f3",
   "metadata": {},
   "source": [
    "## Show result"
   ]
  },
  {
   "cell_type": "code",
   "execution_count": 5,
   "id": "5bcb3921-dc52-4257-b52a-03edc6144eb6",
   "metadata": {},
   "outputs": [
    {
     "data": {
      "text/plain": [
       "Text(0.5, 1.0, 'Result')"
      ]
     },
     "execution_count": 5,
     "metadata": {},
     "output_type": "execute_result"
    },
    {
     "data": {
      "image/png": "[encoded data removed]",
      "text/plain": [
       "<Figure size 640x480 with 1 Axes>"
      ]
     },
     "metadata": {},
     "output_type": "display_data"
    }
   ],
   "source": [
    "figure=plt.figure()\n",
    "figure.add_subplot(1,1,1)\n",
    "plt.imshow(img)\n",
    "plt.axis('off')\n",
    "plt.title('Result')"
   ]
  },
  {
   "cell_type": "code",
   "execution_count": null,
   "id": "5d3198c2-2e21-472f-98e9-7ac1d9fb6c7a",
   "metadata": {},
   "outputs": [],
   "source": []
  }
 ],
 "metadata": {
  "kernelspec": {
   "display_name": "jupyterenv",
   "language": "python",
   "name": "jupyterenv"
  },
  "language_info": {
   "codemirror_mode": {
    "name": "ipython",
    "version": 3
   },
   "file_extension": ".py",
   "mimetype": "text/x-python",
   "name": "python",
   "nbconvert_exporter": "python",
   "pygments_lexer": "ipython3",
   "version": "3.11.2"
  }
 },
 "nbformat": 4,
 "nbformat_minor": 5
}
